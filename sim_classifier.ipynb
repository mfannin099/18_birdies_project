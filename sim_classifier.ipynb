{
 "cells": [
  {
   "cell_type": "markdown",
   "metadata": {},
   "source": [
    "### Multi-class Classifcation - one label per instace"
   ]
  },
  {
   "cell_type": "code",
   "execution_count": 1,
   "metadata": {},
   "outputs": [],
   "source": [
    "import pandas as pd\n",
    "from sklearn.model_selection import train_test_split\n",
    "from sklearn.pipeline import Pipeline\n",
    "from sklearn.compose import ColumnTransformer\n",
    "from sklearn.preprocessing import OneHotEncoder, StandardScaler\n",
    "from sklearn.ensemble import RandomForestClassifier\n",
    "from sklearn.metrics import accuracy_score\n",
    "import seaborn as sns\n",
    "import matplotlib.pyplot as plt\n",
    "from sklearn.multioutput import MultiOutputClassifier\n",
    "from sklearn.linear_model import LogisticRegression\n"
   ]
  },
  {
   "cell_type": "code",
   "execution_count": 2,
   "metadata": {},
   "outputs": [
    {
     "data": {
      "text/html": [
       "<div>\n",
       "<style scoped>\n",
       "    .dataframe tbody tr th:only-of-type {\n",
       "        vertical-align: middle;\n",
       "    }\n",
       "\n",
       "    .dataframe tbody tr th {\n",
       "        vertical-align: top;\n",
       "    }\n",
       "\n",
       "    .dataframe thead th {\n",
       "        text-align: right;\n",
       "    }\n",
       "</style>\n",
       "<table border=\"1\" class=\"dataframe\">\n",
       "  <thead>\n",
       "    <tr style=\"text-align: right;\">\n",
       "      <th></th>\n",
       "      <th>player_name</th>\n",
       "      <th>player_handicap</th>\n",
       "      <th>course_name</th>\n",
       "      <th>hole_timestamp</th>\n",
       "      <th>hole_yardage</th>\n",
       "      <th>hole_par</th>\n",
       "      <th>player_score</th>\n",
       "      <th>hole_number</th>\n",
       "    </tr>\n",
       "  </thead>\n",
       "  <tbody>\n",
       "    <tr>\n",
       "      <th>0</th>\n",
       "      <td>Bad_player</td>\n",
       "      <td>high</td>\n",
       "      <td>Local Course</td>\n",
       "      <td>13.365176</td>\n",
       "      <td>495</td>\n",
       "      <td>5</td>\n",
       "      <td>6</td>\n",
       "      <td>1</td>\n",
       "    </tr>\n",
       "    <tr>\n",
       "      <th>1</th>\n",
       "      <td>Bad_player</td>\n",
       "      <td>high</td>\n",
       "      <td>Local Course</td>\n",
       "      <td>23.197532</td>\n",
       "      <td>271</td>\n",
       "      <td>4</td>\n",
       "      <td>5</td>\n",
       "      <td>2</td>\n",
       "    </tr>\n",
       "    <tr>\n",
       "      <th>2</th>\n",
       "      <td>Bad_player</td>\n",
       "      <td>high</td>\n",
       "      <td>Local Course</td>\n",
       "      <td>33.258234</td>\n",
       "      <td>432</td>\n",
       "      <td>4</td>\n",
       "      <td>6</td>\n",
       "      <td>3</td>\n",
       "    </tr>\n",
       "  </tbody>\n",
       "</table>\n",
       "</div>"
      ],
      "text/plain": [
       "  player_name player_handicap   course_name  hole_timestamp  hole_yardage  \\\n",
       "0  Bad_player            high  Local Course       13.365176           495   \n",
       "1  Bad_player            high  Local Course       23.197532           271   \n",
       "2  Bad_player            high  Local Course       33.258234           432   \n",
       "\n",
       "   hole_par  player_score  hole_number  \n",
       "0         5             6            1  \n",
       "1         4             5            2  \n",
       "2         4             6            3  "
      ]
     },
     "execution_count": 2,
     "metadata": {},
     "output_type": "execute_result"
    }
   ],
   "source": [
    "df = pd.read_csv(\"sim_golf_scores_for_ml.csv\")\n",
    "df.head(3)"
   ]
  },
  {
   "cell_type": "markdown",
   "metadata": {},
   "source": [
    "## Predicting the Label of EACH HOLE"
   ]
  },
  {
   "cell_type": "code",
   "execution_count": 3,
   "metadata": {},
   "outputs": [
    {
     "name": "stdout",
     "output_type": "stream",
     "text": [
      "                player_score                                             \n",
      "                       count      mean       std  min  25%  50%  75%  max\n",
      "player_handicap                                                          \n",
      "high                 36000.0  5.340083  0.984072  3.0  5.0  5.0  6.0  9.0\n",
      "low                  36000.0  3.829111  0.660495  3.0  3.0  4.0  4.0  6.0\n",
      "mid                  36000.0  4.699361  0.786727  3.0  4.0  5.0  5.0  7.0\n"
     ]
    },
    {
     "data": {
      "text/html": [
       "<div>\n",
       "<style scoped>\n",
       "    .dataframe tbody tr th:only-of-type {\n",
       "        vertical-align: middle;\n",
       "    }\n",
       "\n",
       "    .dataframe tbody tr th {\n",
       "        vertical-align: top;\n",
       "    }\n",
       "\n",
       "    .dataframe thead tr th {\n",
       "        text-align: left;\n",
       "    }\n",
       "\n",
       "    .dataframe thead tr:last-of-type th {\n",
       "        text-align: right;\n",
       "    }\n",
       "</style>\n",
       "<table border=\"1\" class=\"dataframe\">\n",
       "  <thead>\n",
       "    <tr>\n",
       "      <th></th>\n",
       "      <th></th>\n",
       "      <th colspan=\"8\" halign=\"left\">player_score</th>\n",
       "    </tr>\n",
       "    <tr>\n",
       "      <th></th>\n",
       "      <th></th>\n",
       "      <th>count</th>\n",
       "      <th>mean</th>\n",
       "      <th>std</th>\n",
       "      <th>min</th>\n",
       "      <th>25%</th>\n",
       "      <th>50%</th>\n",
       "      <th>75%</th>\n",
       "      <th>max</th>\n",
       "    </tr>\n",
       "    <tr>\n",
       "      <th>player_handicap</th>\n",
       "      <th>hole_par</th>\n",
       "      <th></th>\n",
       "      <th></th>\n",
       "      <th></th>\n",
       "      <th></th>\n",
       "      <th></th>\n",
       "      <th></th>\n",
       "      <th></th>\n",
       "      <th></th>\n",
       "    </tr>\n",
       "  </thead>\n",
       "  <tbody>\n",
       "    <tr>\n",
       "      <th rowspan=\"3\" valign=\"top\">high</th>\n",
       "      <th>3</th>\n",
       "      <td>11600.0</td>\n",
       "      <td>4.286552</td>\n",
       "      <td>0.454642</td>\n",
       "      <td>3.0</td>\n",
       "      <td>4.0</td>\n",
       "      <td>4.0</td>\n",
       "      <td>5.0</td>\n",
       "      <td>6.0</td>\n",
       "    </tr>\n",
       "    <tr>\n",
       "      <th>4</th>\n",
       "      <td>19200.0</td>\n",
       "      <td>5.566146</td>\n",
       "      <td>0.524020</td>\n",
       "      <td>4.0</td>\n",
       "      <td>5.0</td>\n",
       "      <td>6.0</td>\n",
       "      <td>6.0</td>\n",
       "      <td>7.0</td>\n",
       "    </tr>\n",
       "    <tr>\n",
       "      <th>5</th>\n",
       "      <td>5200.0</td>\n",
       "      <td>6.855577</td>\n",
       "      <td>0.517540</td>\n",
       "      <td>6.0</td>\n",
       "      <td>7.0</td>\n",
       "      <td>7.0</td>\n",
       "      <td>7.0</td>\n",
       "      <td>9.0</td>\n",
       "    </tr>\n",
       "    <tr>\n",
       "      <th rowspan=\"3\" valign=\"top\">low</th>\n",
       "      <th>3</th>\n",
       "      <td>11600.0</td>\n",
       "      <td>3.013276</td>\n",
       "      <td>0.114458</td>\n",
       "      <td>3.0</td>\n",
       "      <td>3.0</td>\n",
       "      <td>3.0</td>\n",
       "      <td>3.0</td>\n",
       "      <td>4.0</td>\n",
       "    </tr>\n",
       "    <tr>\n",
       "      <th>4</th>\n",
       "      <td>19200.0</td>\n",
       "      <td>4.005156</td>\n",
       "      <td>0.071624</td>\n",
       "      <td>4.0</td>\n",
       "      <td>4.0</td>\n",
       "      <td>4.0</td>\n",
       "      <td>4.0</td>\n",
       "      <td>5.0</td>\n",
       "    </tr>\n",
       "    <tr>\n",
       "      <th>5</th>\n",
       "      <td>5200.0</td>\n",
       "      <td>4.999038</td>\n",
       "      <td>0.063548</td>\n",
       "      <td>4.0</td>\n",
       "      <td>5.0</td>\n",
       "      <td>5.0</td>\n",
       "      <td>5.0</td>\n",
       "      <td>6.0</td>\n",
       "    </tr>\n",
       "    <tr>\n",
       "      <th rowspan=\"3\" valign=\"top\">mid</th>\n",
       "      <th>3</th>\n",
       "      <td>11600.0</td>\n",
       "      <td>3.833621</td>\n",
       "      <td>0.375893</td>\n",
       "      <td>3.0</td>\n",
       "      <td>4.0</td>\n",
       "      <td>4.0</td>\n",
       "      <td>4.0</td>\n",
       "      <td>5.0</td>\n",
       "    </tr>\n",
       "    <tr>\n",
       "      <th>4</th>\n",
       "      <td>19200.0</td>\n",
       "      <td>4.886406</td>\n",
       "      <td>0.363961</td>\n",
       "      <td>4.0</td>\n",
       "      <td>5.0</td>\n",
       "      <td>5.0</td>\n",
       "      <td>5.0</td>\n",
       "      <td>6.0</td>\n",
       "    </tr>\n",
       "    <tr>\n",
       "      <th>5</th>\n",
       "      <td>5200.0</td>\n",
       "      <td>5.940000</td>\n",
       "      <td>0.374531</td>\n",
       "      <td>5.0</td>\n",
       "      <td>6.0</td>\n",
       "      <td>6.0</td>\n",
       "      <td>6.0</td>\n",
       "      <td>7.0</td>\n",
       "    </tr>\n",
       "  </tbody>\n",
       "</table>\n",
       "</div>"
      ],
      "text/plain": [
       "                         player_score                                          \\\n",
       "                                count      mean       std  min  25%  50%  75%   \n",
       "player_handicap hole_par                                                        \n",
       "high            3             11600.0  4.286552  0.454642  3.0  4.0  4.0  5.0   \n",
       "                4             19200.0  5.566146  0.524020  4.0  5.0  6.0  6.0   \n",
       "                5              5200.0  6.855577  0.517540  6.0  7.0  7.0  7.0   \n",
       "low             3             11600.0  3.013276  0.114458  3.0  3.0  3.0  3.0   \n",
       "                4             19200.0  4.005156  0.071624  4.0  4.0  4.0  4.0   \n",
       "                5              5200.0  4.999038  0.063548  4.0  5.0  5.0  5.0   \n",
       "mid             3             11600.0  3.833621  0.375893  3.0  4.0  4.0  4.0   \n",
       "                4             19200.0  4.886406  0.363961  4.0  5.0  5.0  5.0   \n",
       "                5              5200.0  5.940000  0.374531  5.0  6.0  6.0  6.0   \n",
       "\n",
       "                               \n",
       "                          max  \n",
       "player_handicap hole_par       \n",
       "high            3         6.0  \n",
       "                4         7.0  \n",
       "                5         9.0  \n",
       "low             3         4.0  \n",
       "                4         5.0  \n",
       "                5         6.0  \n",
       "mid             3         5.0  \n",
       "                4         6.0  \n",
       "                5         7.0  "
      ]
     },
     "execution_count": 3,
     "metadata": {},
     "output_type": "execute_result"
    }
   ],
   "source": [
    "\n",
    "\n",
    "grouped_stats = df.groupby('player_handicap')[['player_score']].describe()\n",
    "print(grouped_stats)\n",
    "\n",
    "grouped_stats = df.groupby(['player_handicap', 'hole_par'])[['player_score']].describe()\n",
    "grouped_stats"
   ]
  },
  {
   "cell_type": "code",
   "execution_count": 13,
   "metadata": {},
   "outputs": [],
   "source": [
    "# Split into Training & Testing\n",
    "X = df[['hole_yardage','hole_par', 'player_score']].copy()\n",
    "y = df[['player_handicap']].copy()\n",
    "X_train, X_test, y_train, y_test = train_test_split(X, y, test_size=0.2, random_state=42)\n",
    "X_test_to_analyze = X_test.copy()\n"
   ]
  },
  {
   "cell_type": "code",
   "execution_count": 14,
   "metadata": {},
   "outputs": [],
   "source": [
    "\n",
    "# preprocessor = ColumnTransformer([\n",
    "#     ('onehot', OneHotEncoder(handle_unknown='ignore'), ['course_name'])\n",
    "# ])\n",
    "\n",
    "pipeline = Pipeline([\n",
    "    #('preprocess', preprocessor),\n",
    "    #('classifier', LogisticRegression(multi_class='ovr')),\n",
    "    ('classifier', RandomForestClassifier(n_estimators = 100,max_depth= 3 ))\n",
    "])"
   ]
  },
  {
   "cell_type": "code",
   "execution_count": 15,
   "metadata": {},
   "outputs": [
    {
     "name": "stderr",
     "output_type": "stream",
     "text": [
      "c:\\Users\\matt\\Anaconda3\\lib\\site-packages\\sklearn\\pipeline.py:335: DataConversionWarning: A column-vector y was passed when a 1d array was expected. Please change the shape of y to (n_samples,), for example using ravel().\n",
      "  self._final_estimator.fit(Xt, y, **fit_params_last_step)\n"
     ]
    },
    {
     "name": "stdout",
     "output_type": "stream",
     "text": [
      "mid     8613\n",
      "low     8108\n",
      "high    4879\n",
      "Name: predictions, dtype: int64\n",
      "Accuracy Score:  0.75\n"
     ]
    }
   ],
   "source": [
    "pipeline.fit(X_train,y_train)\n",
    "predictions = pipeline.predict(X_test)\n",
    "\n",
    "X_test_to_analyze['predictions'] = predictions\n",
    "X_test_to_analyze['actual'] = y_test\n",
    "print(X_test_to_analyze['predictions'].value_counts())\n",
    "# from sklearn.metrics import accuracy_score\n",
    "print('Accuracy Score: ', round(accuracy_score(y_test, predictions),2))"
   ]
  },
  {
   "cell_type": "code",
   "execution_count": 16,
   "metadata": {},
   "outputs": [
    {
     "name": "stdout",
     "output_type": "stream",
     "text": [
      "              precision    recall  f1-score   support\n",
      "\n",
      "        high       0.79      0.53      0.64      7239\n",
      "         low       0.87      0.99      0.93      7130\n",
      "         mid       0.60      0.72      0.65      7231\n",
      "\n",
      "    accuracy                           0.75     21600\n",
      "   macro avg       0.75      0.75      0.74     21600\n",
      "weighted avg       0.75      0.75      0.74     21600\n",
      "\n",
      "[[3855    2 3382]\n",
      " [   2 7079   49]\n",
      " [1022 1027 5182]]\n"
     ]
    },
    {
     "data": {
      "image/png": "[encoded data removed]",
      "text/plain": [
       "<Figure size 576x432 with 2 Axes>"
      ]
     },
     "metadata": {
      "needs_background": "light"
     },
     "output_type": "display_data"
    }
   ],
   "source": [
    "from sklearn.metrics import classification_report, confusion_matrix\n",
    "# Classification Report\n",
    "print(classification_report(y_test, predictions))\n",
    "\n",
    "# Confusion Matrix\n",
    "\n",
    "# Assuming y_test are the true labels and y_pred are the predicted labels\n",
    "cm = confusion_matrix(y_test, predictions)\n",
    "print(cm)\n",
    "\n",
    "# Create a heatmap of the confusion matrix\n",
    "plt.figure(figsize=(8, 6))\n",
    "sns.heatmap(cm, annot=True, fmt='d', cmap='Blues', xticklabels=['high', 'low', 'mid'], yticklabels=['high', 'low', 'mid'])\n",
    "\n",
    "# Add labels, title, and show the plot\n",
    "plt.xlabel('Predicted Labels')\n",
    "plt.ylabel('True Labels')\n",
    "plt.title('Confusion Matrix')\n",
    "plt.show()\n",
    "\n",
    "## NEED TO STUDY METRICS FOR MULTI-CLASS PREDICTIONS"
   ]
  },
  {
   "cell_type": "markdown",
   "metadata": {},
   "source": []
  },
  {
   "cell_type": "code",
   "execution_count": 17,
   "metadata": {},
   "outputs": [
    {
     "name": "stdout",
     "output_type": "stream",
     "text": [
      "mid     8613\n",
      "low     8108\n",
      "high    4879\n",
      "Name: predictions, dtype: int64\n",
      "high    7239\n",
      "mid     7231\n",
      "low     7130\n",
      "Name: actual, dtype: int64\n"
     ]
    }
   ],
   "source": [
    "print(X_test_to_analyze['predictions'].value_counts())\n",
    "print(X_test_to_analyze['actual'].value_counts())"
   ]
  },
  {
   "cell_type": "markdown",
   "metadata": {},
   "source": []
  },
  {
   "cell_type": "markdown",
   "metadata": {},
   "source": [
    "## Predicting the label (Handicap) based on full rounds\n",
    "### need to agg "
   ]
  },
  {
   "cell_type": "code",
   "execution_count": 18,
   "metadata": {},
   "outputs": [
    {
     "data": {
      "text/html": [
       "<div>\n",
       "<style scoped>\n",
       "    .dataframe tbody tr th:only-of-type {\n",
       "        vertical-align: middle;\n",
       "    }\n",
       "\n",
       "    .dataframe tbody tr th {\n",
       "        vertical-align: top;\n",
       "    }\n",
       "\n",
       "    .dataframe thead th {\n",
       "        text-align: right;\n",
       "    }\n",
       "</style>\n",
       "<table border=\"1\" class=\"dataframe\">\n",
       "  <thead>\n",
       "    <tr style=\"text-align: right;\">\n",
       "      <th></th>\n",
       "      <th>player_name</th>\n",
       "      <th>player_handicap</th>\n",
       "      <th>course_name</th>\n",
       "      <th>hole_yardage</th>\n",
       "      <th>hole_par</th>\n",
       "      <th>player_score</th>\n",
       "    </tr>\n",
       "    <tr>\n",
       "      <th>round</th>\n",
       "      <th></th>\n",
       "      <th></th>\n",
       "      <th></th>\n",
       "      <th></th>\n",
       "      <th></th>\n",
       "      <th></th>\n",
       "    </tr>\n",
       "  </thead>\n",
       "  <tbody>\n",
       "    <tr>\n",
       "      <th>0</th>\n",
       "      <td>Bad_player</td>\n",
       "      <td>high</td>\n",
       "      <td>Local Course</td>\n",
       "      <td>6144</td>\n",
       "      <td>74</td>\n",
       "      <td>100</td>\n",
       "    </tr>\n",
       "    <tr>\n",
       "      <th>1</th>\n",
       "      <td>Bad_player</td>\n",
       "      <td>high</td>\n",
       "      <td>Local Links</td>\n",
       "      <td>6499</td>\n",
       "      <td>72</td>\n",
       "      <td>102</td>\n",
       "    </tr>\n",
       "    <tr>\n",
       "      <th>2</th>\n",
       "      <td>Bad_player</td>\n",
       "      <td>high</td>\n",
       "      <td>Cheap Course Farms</td>\n",
       "      <td>5974</td>\n",
       "      <td>71</td>\n",
       "      <td>100</td>\n",
       "    </tr>\n",
       "    <tr>\n",
       "      <th>3</th>\n",
       "      <td>Bad_player</td>\n",
       "      <td>high</td>\n",
       "      <td>Expensive Fairways</td>\n",
       "      <td>5607</td>\n",
       "      <td>69</td>\n",
       "      <td>96</td>\n",
       "    </tr>\n",
       "    <tr>\n",
       "      <th>4</th>\n",
       "      <td>Bad_player</td>\n",
       "      <td>high</td>\n",
       "      <td>Beach Town Golf Club</td>\n",
       "      <td>5072</td>\n",
       "      <td>66</td>\n",
       "      <td>93</td>\n",
       "    </tr>\n",
       "  </tbody>\n",
       "</table>\n",
       "</div>"
      ],
      "text/plain": [
       "      player_name player_handicap           course_name  hole_yardage  \\\n",
       "round                                                                   \n",
       "0      Bad_player            high          Local Course          6144   \n",
       "1      Bad_player            high           Local Links          6499   \n",
       "2      Bad_player            high    Cheap Course Farms          5974   \n",
       "3      Bad_player            high    Expensive Fairways          5607   \n",
       "4      Bad_player            high  Beach Town Golf Club          5072   \n",
       "\n",
       "       hole_par  player_score  \n",
       "round                          \n",
       "0            74           100  \n",
       "1            72           102  \n",
       "2            71           100  \n",
       "3            69            96  \n",
       "4            66            93  "
      ]
     },
     "execution_count": 18,
     "metadata": {},
     "output_type": "execute_result"
    }
   ],
   "source": [
    "df[\"round\"] = df.index // 18 \n",
    "df_grouped = df.groupby(\"round\").agg({\n",
    "    \"player_name\": \"max\",       \n",
    "    \"player_handicap\": \"max\",  \n",
    "    \"course_name\": \"max\", \n",
    "    \"hole_yardage\": \"sum\",      \n",
    "    \"hole_par\": \"sum\"  ,\n",
    "     \"player_score\": \"sum\"  \n",
    "})\n",
    "df_grouped.head(5)"
   ]
  },
  {
   "cell_type": "code",
   "execution_count": 19,
   "metadata": {},
   "outputs": [],
   "source": [
    "# Split into Training & Testing\n",
    "X = df_grouped[['hole_yardage','hole_par', 'player_score']].copy()\n",
    "#X = df_grouped[['course_name','hole_yardage','hole_par', 'player_score']].copy()\n",
    "y = df_grouped[['player_handicap']].copy()\n",
    "X_train, X_test, y_train, y_test = train_test_split(X, y, test_size=0.2, random_state=42)\n",
    "X_test_to_analyze = X_test.copy()"
   ]
  },
  {
   "cell_type": "code",
   "execution_count": 24,
   "metadata": {},
   "outputs": [
    {
     "name": "stdout",
     "output_type": "stream",
     "text": [
      "high    435\n",
      "mid     383\n",
      "low     382\n",
      "Name: predictions, dtype: int64\n",
      "Accuracy Score:  0.95\n"
     ]
    }
   ],
   "source": [
    "\n",
    "from sklearn.tree import DecisionTreeClassifier\n",
    "\n",
    "pipeline = Pipeline([\n",
    "#('classifier', LogisticRegression(multi_class='ovr')),   \n",
    "#('classifier', RandomForestClassifier(n_estimators = 7,max_depth= 3))\n",
    "('classifier', DecisionTreeClassifier(max_depth=3))\n",
    "])\n",
    "\n",
    "pipeline.fit(X_train,y_train)\n",
    "predictions = pipeline.predict(X_test)\n",
    "\n",
    "X_test_to_analyze['predictions'] = predictions\n",
    "X_test_to_analyze['actual'] = y_test\n",
    "print(X_test_to_analyze['predictions'].value_counts())\n",
    "# from sklearn.metrics import accuracy_score\n",
    "print('Accuracy Score: ', round(accuracy_score(y_test, predictions),2))"
   ]
  },
  {
   "cell_type": "code",
   "execution_count": 25,
   "metadata": {},
   "outputs": [
    {
     "name": "stdout",
     "output_type": "stream",
     "text": [
      "Model saved successfully!\n"
     ]
    }
   ],
   "source": [
    "import joblib\n",
    "joblib.dump(pipeline, 'sim_golf_model.pkl')\n",
    "print(\"Model saved successfully!\")"
   ]
  }
 ],
 "metadata": {
  "kernelspec": {
   "display_name": "base",
   "language": "python",
   "name": "python3"
  },
  "language_info": {
   "codemirror_mode": {
    "name": "ipython",
    "version": 3
   },
   "file_extension": ".py",
   "mimetype": "text/x-python",
   "name": "python",
   "nbconvert_exporter": "python",
   "pygments_lexer": "ipython3",
   "version": "3.7.3"
  }
 },
 "nbformat": 4,
 "nbformat_minor": 2
}
